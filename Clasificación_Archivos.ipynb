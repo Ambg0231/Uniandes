{
 "cells": [
  {
   "cell_type": "markdown",
   "id": "c92ad9f0-4dac-4934-99d6-eb99bf59eff0",
   "metadata": {},
   "source": [
    "## Programa para la clasificación de archivos OneDrive"
   ]
  },
  {
   "cell_type": "markdown",
   "id": "b8a9da20-c1fb-4c51-b541-3ed5371ee18d",
   "metadata": {},
   "source": [
    "### Instalación de bibliotecas"
   ]
  },
  {
   "cell_type": "code",
   "execution_count": null,
   "id": "b9fcd882-7ad3-48c0-b941-ffb3853eaf0d",
   "metadata": {},
   "outputs": [],
   "source": [
    "import os\n",
    "import shutil\n",
    "import pandas as pd"
   ]
  },
  {
   "cell_type": "markdown",
   "id": "409a053b-9d70-4ab3-a6bc-b0943790f6f9",
   "metadata": {},
   "source": [
    "### Lectura de archivo con pandas"
   ]
  },
  {
   "cell_type": "code",
   "execution_count": null,
   "id": "aa230751-ee18-40ef-aad4-46176dfa4236",
   "metadata": {},
   "outputs": [],
   "source": [
    "base_path = r\"C:\\Users\\a.burgosg\\OneDrive - Universidad de los andes\\Equipo Pregrado\"\n",
    "dest_path = r\"C:\\Users\\a.burgosg\\Documents\\Historias Académicas\"\n",
    "excel_path = r\"C:\\Users\\a.burgosg\\Documents\\Universidad de los Andes\\Programas\\Clasificación Archivos\\Atributos_clas.xlsx\""
   ]
  },
  {
   "cell_type": "code",
   "execution_count": null,
   "id": "e4680d13-1692-4c86-b262-5b0d2e68ae5c",
   "metadata": {},
   "outputs": [],
   "source": [
    "df = pd.read_excel(excel_path)"
   ]
  },
  {
   "cell_type": "code",
   "execution_count": null,
   "id": "9ba6532e-1bdf-40f4-a1ba-60f968c8fb9c",
   "metadata": {},
   "outputs": [],
   "source": [
    "carpeta_valores = []\n",
    "for index, row in df.iterrows():\n",
    "    carpeta = row['Carpeta']\n",
    "    for col in df.columns[1:]:  # Omitimos la primera columna que es 'Carpeta'\n",
    "        valor = row[col]\n",
    "        if pd.notna(valor):  # Nos aseguramos de que el valor no sea NaN\n",
    "            carpeta_valores.append((carpeta, str(valor)))"
   ]
  },
  {
   "cell_type": "markdown",
   "id": "d0a262df-b697-4b92-b778-dac785c4b58a",
   "metadata": {},
   "source": [
    "### Función de clasificación:"
   ]
  },
  {
   "cell_type": "code",
   "execution_count": null,
   "id": "7dfdaa76-7d08-4a12-a85d-d8c74f82d5e9",
   "metadata": {},
   "outputs": [],
   "source": [
    "def clasificar_archivos(base_path, dest_path, carpeta_valores):\n",
    "    for root, dirs, files in os.walk(base_path):\n",
    "        for file in files:\n",
    "            file_path = os.path.join(root, file)\n",
    "            for carpeta, valor in carpeta_valores:\n",
    "                if valor in file:\n",
    "                    nueva_carpeta = os.path.join(dest_path, carpeta)\n",
    "                    \n",
    "                    if not os.path.exists(nueva_carpeta):\n",
    "                        os.makedirs(nueva_carpeta)\n",
    "                    \n",
    "                    # Verificar existencia\n",
    "                    if os.path.exists(file_path):\n",
    "                        try:\n",
    "                            shutil.copy(file_path, nueva_carpeta)\n",
    "                            print(f\"Archivo {file} copiado a {nueva_carpeta}\")\n",
    "                        except FileNotFoundError:\n",
    "                            print(f\"Archivo no encontrado: {file_path}\")\n",
    "                        except Exception as e:\n",
    "                            print(f\"Error copiando {file}: {e}\")\n",
    "                    else:\n",
    "                        print(f\"Archivo no encontrado: {file_path}\")\n",
    "                    break  # Si encuentra una coincidencia, no busca más"
   ]
  },
  {
   "cell_type": "markdown",
   "id": "1c8d3f4d-ff16-4800-b009-ae00e0460db8",
   "metadata": {},
   "source": [
    "### Ejecución de la clasificación"
   ]
  },
  {
   "cell_type": "code",
   "execution_count": null,
   "id": "59cd9891-3710-4dc1-980c-618cfd054e12",
   "metadata": {},
   "outputs": [],
   "source": [
    "clasificar_archivos(base_path, dest_path, carpeta_valores)"
   ]
  }
 ],
 "metadata": {
  "kernelspec": {
   "display_name": "Python 3 (ipykernel)",
   "language": "python",
   "name": "python3"
  },
  "language_info": {
   "codemirror_mode": {
    "name": "ipython",
    "version": 3
   },
   "file_extension": ".py",
   "mimetype": "text/x-python",
   "name": "python",
   "nbconvert_exporter": "python",
   "pygments_lexer": "ipython3",
   "version": "3.12.4"
  }
 },
 "nbformat": 4,
 "nbformat_minor": 5
}
